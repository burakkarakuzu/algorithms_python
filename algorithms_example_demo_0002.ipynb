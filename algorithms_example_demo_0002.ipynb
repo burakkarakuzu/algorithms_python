{
 "cells": [
  {
   "cell_type": "code",
   "execution_count": 1,
   "id": "cfa1e7f4",
   "metadata": {},
   "outputs": [
    {
     "name": "stdout",
     "output_type": "stream",
     "text": [
      "input string:Burak Karakuzu\n"
     ]
    }
   ],
   "source": [
    "input_str_1=input(\"input string:\")"
   ]
  },
  {
   "cell_type": "code",
   "execution_count": 2,
   "id": "8872bb17",
   "metadata": {},
   "outputs": [
    {
     "name": "stdout",
     "output_type": "stream",
     "text": [
      "input string:Ali Eren\n"
     ]
    }
   ],
   "source": [
    "input_str_2=input(\"input string:\")"
   ]
  },
  {
   "cell_type": "code",
   "execution_count": 3,
   "id": "2007a69b",
   "metadata": {},
   "outputs": [],
   "source": [
    "def buyukHarfKontrolu(input):\n",
    "    for s in range(len(input)):\n",
    "        if input[s].isupper():\n",
    "            return input[s]\n",
    "    return \"no uppercase\""
   ]
  },
  {
   "cell_type": "code",
   "execution_count": 4,
   "id": "9c0cf5df",
   "metadata": {},
   "outputs": [
    {
     "data": {
      "text/plain": [
       "'B'"
      ]
     },
     "execution_count": 4,
     "metadata": {},
     "output_type": "execute_result"
    }
   ],
   "source": [
    "buyukHarfKontrolu(input_str_1)"
   ]
  },
  {
   "cell_type": "code",
   "execution_count": 6,
   "id": "b6bc837c",
   "metadata": {},
   "outputs": [
    {
     "data": {
      "text/plain": [
       "'A'"
      ]
     },
     "execution_count": 6,
     "metadata": {},
     "output_type": "execute_result"
    }
   ],
   "source": [
    "buyukHarfKontrolu(input_str_2)"
   ]
  }
 ],
 "metadata": {
  "kernelspec": {
   "display_name": "Python 3 (ipykernel)",
   "language": "python",
   "name": "python3"
  },
  "language_info": {
   "codemirror_mode": {
    "name": "ipython",
    "version": 3
   },
   "file_extension": ".py",
   "mimetype": "text/x-python",
   "name": "python",
   "nbconvert_exporter": "python",
   "pygments_lexer": "ipython3",
   "version": "3.9.7"
  }
 },
 "nbformat": 4,
 "nbformat_minor": 5
}

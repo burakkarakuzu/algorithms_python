{
 "cells": [
  {
   "cell_type": "code",
   "execution_count": 1,
   "id": "ed853565",
   "metadata": {},
   "outputs": [],
   "source": [
    "data_str=\"i am lost\""
   ]
  },
  {
   "cell_type": "markdown",
   "id": "8b0e8376",
   "metadata": {},
   "source": [
    "# String'in uzunluğunu hesaplama:"
   ]
  },
  {
   "cell_type": "code",
   "execution_count": 2,
   "id": "8297e90f",
   "metadata": {},
   "outputs": [],
   "source": [
    "def str_len(data):\n",
    "    count=0\n",
    "    for s in range(len(data)):\n",
    "        count +=1\n",
    "    return count"
   ]
  },
  {
   "cell_type": "code",
   "execution_count": 3,
   "id": "1819be2e",
   "metadata": {},
   "outputs": [
    {
     "name": "stdout",
     "output_type": "stream",
     "text": [
      "9\n"
     ]
    }
   ],
   "source": [
    "print(str_len(data_str))"
   ]
  },
  {
   "cell_type": "code",
   "execution_count": null,
   "id": "62b83857",
   "metadata": {},
   "outputs": [],
   "source": []
  }
 ],
 "metadata": {
  "kernelspec": {
   "display_name": "Python 3 (ipykernel)",
   "language": "python",
   "name": "python3"
  },
  "language_info": {
   "codemirror_mode": {
    "name": "ipython",
    "version": 3
   },
   "file_extension": ".py",
   "mimetype": "text/x-python",
   "name": "python",
   "nbconvert_exporter": "python",
   "pygments_lexer": "ipython3",
   "version": "3.9.7"
  }
 },
 "nbformat": 4,
 "nbformat_minor": 5
}

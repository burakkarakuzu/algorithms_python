{
 "cells": [
  {
   "cell_type": "code",
   "execution_count": 1,
   "id": "a768c9e8",
   "metadata": {},
   "outputs": [],
   "source": [
    "input_str_1=\"abcdefSR\""
   ]
  },
  {
   "cell_type": "code",
   "execution_count": 2,
   "id": "303daa05",
   "metadata": {},
   "outputs": [],
   "source": [
    "input_str_2=\"Srbg\""
   ]
  },
  {
   "cell_type": "code",
   "execution_count": 3,
   "id": "5eb4df74",
   "metadata": {},
   "outputs": [],
   "source": [
    "vowels=\"aeiou\""
   ]
  },
  {
   "cell_type": "code",
   "execution_count": 6,
   "id": "a0b7bd87",
   "metadata": {},
   "outputs": [],
   "source": [
    "def count_find(data):\n",
    "    count=0\n",
    "    for s in range(len(data)):\n",
    "        if data[s].lower() not in  vowels and data[s].isalpha():\n",
    "            count +=1\n",
    "    return count"
   ]
  },
  {
   "cell_type": "code",
   "execution_count": 7,
   "id": "66b6049c",
   "metadata": {},
   "outputs": [
    {
     "data": {
      "text/plain": [
       "6"
      ]
     },
     "execution_count": 7,
     "metadata": {},
     "output_type": "execute_result"
    }
   ],
   "source": [
    "count_find(input_str_1)"
   ]
  },
  {
   "cell_type": "code",
   "execution_count": 8,
   "id": "0bff4f81",
   "metadata": {},
   "outputs": [
    {
     "data": {
      "text/plain": [
       "4"
      ]
     },
     "execution_count": 8,
     "metadata": {},
     "output_type": "execute_result"
    }
   ],
   "source": [
    "count_find(input_str_2)"
   ]
  },
  {
   "cell_type": "code",
   "execution_count": null,
   "id": "e6391dae",
   "metadata": {},
   "outputs": [],
   "source": []
  }
 ],
 "metadata": {
  "kernelspec": {
   "display_name": "Python 3 (ipykernel)",
   "language": "python",
   "name": "python3"
  },
  "language_info": {
   "codemirror_mode": {
    "name": "ipython",
    "version": 3
   },
   "file_extension": ".py",
   "mimetype": "text/x-python",
   "name": "python",
   "nbconvert_exporter": "python",
   "pygments_lexer": "ipython3",
   "version": "3.9.7"
  }
 },
 "nbformat": 4,
 "nbformat_minor": 5
}

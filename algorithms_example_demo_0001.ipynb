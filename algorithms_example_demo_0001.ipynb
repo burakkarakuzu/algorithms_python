{
 "cells": [
  {
   "cell_type": "code",
   "execution_count": null,
   "id": "068739ff",
   "metadata": {},
   "outputs": [],
   "source": [
    "import numpy as np"
   ]
  },
  {
   "cell_type": "code",
   "execution_count": null,
   "id": "df47d09e",
   "metadata": {},
   "outputs": [],
   "source": [
    "data=np.arange(0,10)"
   ]
  },
  {
   "cell_type": "code",
   "execution_count": null,
   "id": "ea6c2864",
   "metadata": {},
   "outputs": [],
   "source": [
    "data"
   ]
  },
  {
   "cell_type": "code",
   "execution_count": null,
   "id": "8837ebc7",
   "metadata": {},
   "outputs": [],
   "source": [
    "target=8"
   ]
  },
  {
   "cell_type": "code",
   "execution_count": null,
   "id": "aa462bf4",
   "metadata": {},
   "outputs": [],
   "source": [
    "def linear_search(data,target):\n",
    "    for i in range(len(data)):\n",
    "        if data[i]==target:\n",
    "            return True\n",
    "    return False"
   ]
  },
  {
   "cell_type": "code",
   "execution_count": null,
   "id": "844e6f80",
   "metadata": {},
   "outputs": [],
   "source": [
    "linear_search(data,target)"
   ]
  },
  {
   "cell_type": "code",
   "execution_count": null,
   "id": "6339df79",
   "metadata": {},
   "outputs": [],
   "source": []
  }
 ],
 "metadata": {
  "kernelspec": {
   "display_name": "Python 3 (ipykernel)",
   "language": "python",
   "name": "python3"
  },
  "language_info": {
   "codemirror_mode": {
    "name": "ipython",
    "version": 3
   },
   "file_extension": ".py",
   "mimetype": "text/x-python",
   "name": "python",
   "nbconvert_exporter": "python",
   "pygments_lexer": "ipython3",
   "version": "3.9.7"
  }
 },
 "nbformat": 4,
 "nbformat_minor": 5
}

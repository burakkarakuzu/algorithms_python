{
 "cells": [
  {
   "cell_type": "code",
   "execution_count": 1,
   "id": "84231700",
   "metadata": {},
   "outputs": [],
   "source": [
    "word_content=\"i like to write code.\""
   ]
  },
  {
   "cell_type": "code",
   "execution_count": 2,
   "id": "3fd8fb84",
   "metadata": {},
   "outputs": [
    {
     "name": "stdout",
     "output_type": "stream",
     "text": [
      "2\n"
     ]
    }
   ],
   "source": [
    "print(word_content.find(\"like\"))"
   ]
  },
  {
   "cell_type": "code",
   "execution_count": 3,
   "id": "6fff8607",
   "metadata": {},
   "outputs": [
    {
     "name": "stdout",
     "output_type": "stream",
     "text": [
      "3\n"
     ]
    }
   ],
   "source": [
    "print(word_content.find(\"i\",2))"
   ]
  },
  {
   "cell_type": "code",
   "execution_count": null,
   "id": "ce48b41d",
   "metadata": {},
   "outputs": [],
   "source": []
  }
 ],
 "metadata": {
  "kernelspec": {
   "display_name": "Python 3 (ipykernel)",
   "language": "python",
   "name": "python3"
  },
  "language_info": {
   "codemirror_mode": {
    "name": "ipython",
    "version": 3
   },
   "file_extension": ".py",
   "mimetype": "text/x-python",
   "name": "python",
   "nbconvert_exporter": "python",
   "pygments_lexer": "ipython3",
   "version": "3.9.7"
  }
 },
 "nbformat": 4,
 "nbformat_minor": 5
}

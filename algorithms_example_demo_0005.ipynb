{
 "cells": [
  {
   "cell_type": "code",
   "execution_count": 5,
   "id": "84231700",
   "metadata": {},
   "outputs": [],
   "source": [
    "word_content=\"iliketowritecode\""
   ]
  },
  {
   "cell_type": "code",
   "execution_count": 6,
   "id": "3fd8fb84",
   "metadata": {},
   "outputs": [
    {
     "name": "stdout",
     "output_type": "stream",
     "text": [
      "1\n"
     ]
    }
   ],
   "source": [
    "print(word_content.find(\"like\"))"
   ]
  },
  {
   "cell_type": "code",
   "execution_count": 7,
   "id": "6fff8607",
   "metadata": {},
   "outputs": [
    {
     "name": "stdout",
     "output_type": "stream",
     "text": [
      "2\n"
     ]
    }
   ],
   "source": [
    "print(word_content.find(\"i\",2))"
   ]
  },
  {
   "cell_type": "code",
   "execution_count": 8,
   "id": "ce48b41d",
   "metadata": {},
   "outputs": [
    {
     "name": "stdout",
     "output_type": "stream",
     "text": [
      "True\n"
     ]
    }
   ],
   "source": [
    "print(word_content.isalnum())"
   ]
  },
  {
   "cell_type": "code",
   "execution_count": null,
   "id": "c697bf3a",
   "metadata": {},
   "outputs": [],
   "source": []
  }
 ],
 "metadata": {
  "kernelspec": {
   "display_name": "Python 3 (ipykernel)",
   "language": "python",
   "name": "python3"
  },
  "language_info": {
   "codemirror_mode": {
    "name": "ipython",
    "version": 3
   },
   "file_extension": ".py",
   "mimetype": "text/x-python",
   "name": "python",
   "nbconvert_exporter": "python",
   "pygments_lexer": "ipython3",
   "version": "3.9.7"
  }
 },
 "nbformat": 4,
 "nbformat_minor": 5
}
